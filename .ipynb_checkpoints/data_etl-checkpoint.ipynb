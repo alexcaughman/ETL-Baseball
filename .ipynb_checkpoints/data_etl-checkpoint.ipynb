{
 "cells": [
  {
   "cell_type": "code",
   "execution_count": 1,
   "metadata": {},
   "outputs": [],
   "source": [
    "# import dependancies\n",
    "import pandas as pd\n",
    "from sqlalchemy import create_engine\n",
    "\n",
    "# postgres login password\n",
    "from config import key"
   ]
  },
  {
   "cell_type": "code",
   "execution_count": 2,
   "metadata": {},
   "outputs": [],
   "source": [
    "baseball_etl = \"brave_2019_schedule.csv\"\n",
    "kaggle_mlb = \"braves_hr.csv\""
   ]
  },
  {
   "cell_type": "code",
   "execution_count": 3,
   "metadata": {},
   "outputs": [
    {
     "data": {
      "text/html": [
       "<div>\n",
       "<style scoped>\n",
       "    .dataframe tbody tr th:only-of-type {\n",
       "        vertical-align: middle;\n",
       "    }\n",
       "\n",
       "    .dataframe tbody tr th {\n",
       "        vertical-align: top;\n",
       "    }\n",
       "\n",
       "    .dataframe thead th {\n",
       "        text-align: right;\n",
       "    }\n",
       "</style>\n",
       "<table border=\"1\" class=\"dataframe\">\n",
       "  <thead>\n",
       "    <tr style=\"text-align: right;\">\n",
       "      <th></th>\n",
       "      <th>player_name</th>\n",
       "      <th>player_team</th>\n",
       "      <th>hr_2019</th>\n",
       "    </tr>\n",
       "  </thead>\n",
       "  <tbody>\n",
       "    <tr>\n",
       "      <th>0</th>\n",
       "      <td>Ronald Acuna Jr.</td>\n",
       "      <td>Braves</td>\n",
       "      <td>41.0</td>\n",
       "    </tr>\n",
       "    <tr>\n",
       "      <th>1</th>\n",
       "      <td>Freddie Freeman</td>\n",
       "      <td>Braves</td>\n",
       "      <td>38.0</td>\n",
       "    </tr>\n",
       "    <tr>\n",
       "      <th>2</th>\n",
       "      <td>Ozzie Albies</td>\n",
       "      <td>Braves</td>\n",
       "      <td>24.0</td>\n",
       "    </tr>\n",
       "    <tr>\n",
       "      <th>3</th>\n",
       "      <td>Marcell Ozuna</td>\n",
       "      <td>Braves</td>\n",
       "      <td>29.0</td>\n",
       "    </tr>\n",
       "    <tr>\n",
       "      <th>4</th>\n",
       "      <td>Dansby Swanson</td>\n",
       "      <td>Braves</td>\n",
       "      <td>17.0</td>\n",
       "    </tr>\n",
       "    <tr>\n",
       "      <th>5</th>\n",
       "      <td>Austin Riley</td>\n",
       "      <td>Braves</td>\n",
       "      <td>18.0</td>\n",
       "    </tr>\n",
       "    <tr>\n",
       "      <th>6</th>\n",
       "      <td>Travis d'Arnaud</td>\n",
       "      <td>Braves</td>\n",
       "      <td>16.0</td>\n",
       "    </tr>\n",
       "    <tr>\n",
       "      <th>7</th>\n",
       "      <td>Ender Inciarte</td>\n",
       "      <td>Braves</td>\n",
       "      <td>5.0</td>\n",
       "    </tr>\n",
       "    <tr>\n",
       "      <th>8</th>\n",
       "      <td>Johan Camargo</td>\n",
       "      <td>Braves</td>\n",
       "      <td>7.0</td>\n",
       "    </tr>\n",
       "    <tr>\n",
       "      <th>9</th>\n",
       "      <td>Tyler Flowers</td>\n",
       "      <td>Braves</td>\n",
       "      <td>11.0</td>\n",
       "    </tr>\n",
       "    <tr>\n",
       "      <th>10</th>\n",
       "      <td>Adam Duvall</td>\n",
       "      <td>Braves</td>\n",
       "      <td>10.0</td>\n",
       "    </tr>\n",
       "    <tr>\n",
       "      <th>11</th>\n",
       "      <td>Adeiny Hechavarria</td>\n",
       "      <td>Braves</td>\n",
       "      <td>9.0</td>\n",
       "    </tr>\n",
       "    <tr>\n",
       "      <th>12</th>\n",
       "      <td>Yonder Alonso</td>\n",
       "      <td>Braves</td>\n",
       "      <td>10.0</td>\n",
       "    </tr>\n",
       "    <tr>\n",
       "      <th>13</th>\n",
       "      <td>Charlie Culberson</td>\n",
       "      <td>Braves</td>\n",
       "      <td>5.0</td>\n",
       "    </tr>\n",
       "    <tr>\n",
       "      <th>14</th>\n",
       "      <td>Alex Jackson</td>\n",
       "      <td>Braves</td>\n",
       "      <td>0.0</td>\n",
       "    </tr>\n",
       "    <tr>\n",
       "      <th>15</th>\n",
       "      <td>Peter O'Brien</td>\n",
       "      <td>Braves</td>\n",
       "      <td>1.0</td>\n",
       "    </tr>\n",
       "    <tr>\n",
       "      <th>16</th>\n",
       "      <td>Rafael Ortega</td>\n",
       "      <td>Braves</td>\n",
       "      <td>2.0</td>\n",
       "    </tr>\n",
       "  </tbody>\n",
       "</table>\n",
       "</div>"
      ],
      "text/plain": [
       "           player_name player_team  hr_2019\n",
       "0     Ronald Acuna Jr.      Braves     41.0\n",
       "1      Freddie Freeman      Braves     38.0\n",
       "2         Ozzie Albies      Braves     24.0\n",
       "3        Marcell Ozuna      Braves     29.0\n",
       "4       Dansby Swanson      Braves     17.0\n",
       "5         Austin Riley      Braves     18.0\n",
       "6      Travis d'Arnaud      Braves     16.0\n",
       "7       Ender Inciarte      Braves      5.0\n",
       "8        Johan Camargo      Braves      7.0\n",
       "9        Tyler Flowers      Braves     11.0\n",
       "10         Adam Duvall      Braves     10.0\n",
       "11  Adeiny Hechavarria      Braves      9.0\n",
       "12       Yonder Alonso      Braves     10.0\n",
       "13   Charlie Culberson      Braves      5.0\n",
       "14        Alex Jackson      Braves      0.0\n",
       "15       Peter O'Brien      Braves      1.0\n",
       "16       Rafael Ortega      Braves      2.0"
      ]
     },
     "execution_count": 3,
     "metadata": {},
     "output_type": "execute_result"
    }
   ],
   "source": [
    "baseball_etl_df = pd.read_csv(baseball_etl)\n",
    "kaggle_mlb_df = pd.read_csv(kaggle_mlb)\n",
    "# # baseball_etl_df.set_index(\"INDEX\", inplace=True)\n",
    "# baseball_etl_df = baseball_etl_df.drop(columns=[\"index\"], axis=1)\n",
    "# baseball_etl_df = baseball_etl_df.fillna('')\n",
    "kaggle_mlb_df"
   ]
  },
  {
   "cell_type": "code",
   "execution_count": 4,
   "metadata": {},
   "outputs": [
    {
     "data": {
      "text/html": [
       "<div>\n",
       "<style scoped>\n",
       "    .dataframe tbody tr th:only-of-type {\n",
       "        vertical-align: middle;\n",
       "    }\n",
       "\n",
       "    .dataframe tbody tr th {\n",
       "        vertical-align: top;\n",
       "    }\n",
       "\n",
       "    .dataframe thead th {\n",
       "        text-align: right;\n",
       "    }\n",
       "</style>\n",
       "<table border=\"1\" class=\"dataframe\">\n",
       "  <thead>\n",
       "    <tr style=\"text-align: right;\">\n",
       "      <th></th>\n",
       "      <th>player_name</th>\n",
       "      <th>player_team</th>\n",
       "      <th>hr_2019</th>\n",
       "    </tr>\n",
       "  </thead>\n",
       "  <tbody>\n",
       "    <tr>\n",
       "      <th>0</th>\n",
       "      <td>Ronald Acuna Jr.</td>\n",
       "      <td>Braves</td>\n",
       "      <td>41.0</td>\n",
       "    </tr>\n",
       "    <tr>\n",
       "      <th>1</th>\n",
       "      <td>Freddie Freeman</td>\n",
       "      <td>Braves</td>\n",
       "      <td>38.0</td>\n",
       "    </tr>\n",
       "    <tr>\n",
       "      <th>2</th>\n",
       "      <td>Ozzie Albies</td>\n",
       "      <td>Braves</td>\n",
       "      <td>24.0</td>\n",
       "    </tr>\n",
       "    <tr>\n",
       "      <th>3</th>\n",
       "      <td>Marcell Ozuna</td>\n",
       "      <td>Braves</td>\n",
       "      <td>29.0</td>\n",
       "    </tr>\n",
       "    <tr>\n",
       "      <th>4</th>\n",
       "      <td>Dansby Swanson</td>\n",
       "      <td>Braves</td>\n",
       "      <td>17.0</td>\n",
       "    </tr>\n",
       "  </tbody>\n",
       "</table>\n",
       "</div>"
      ],
      "text/plain": [
       "        player_name player_team  hr_2019\n",
       "0  Ronald Acuna Jr.      Braves     41.0\n",
       "1   Freddie Freeman      Braves     38.0\n",
       "2      Ozzie Albies      Braves     24.0\n",
       "3     Marcell Ozuna      Braves     29.0\n",
       "4    Dansby Swanson      Braves     17.0"
      ]
     },
     "execution_count": 4,
     "metadata": {},
     "output_type": "execute_result"
    }
   ],
   "source": [
    "kaggle_mlb_df = kaggle_mlb_df.rename(columns={\"PLAYER_NAME\": \"PLAYER_NAME\",\"PLAYER_TEAM\": \"PLAYER_TEAM\", \"2019_HR\": \"HR_2019\"})\n",
    "\n",
    "kaggle_mlb_df.head()"
   ]
  },
  {
   "cell_type": "code",
   "execution_count": 5,
   "metadata": {},
   "outputs": [],
   "source": [
    "db_name = 'baseball_db'\n",
    "\n",
    "# postgres password is {key}\n",
    "connection_string = f\"postgres:{key}@localhost:5432/{db_name}\"\n",
    "engine = create_engine(f'postgresql://{connection_string}')"
   ]
  },
  {
   "cell_type": "code",
   "execution_count": 6,
   "metadata": {},
   "outputs": [],
   "source": [
    "baseball_etl_df.to_sql(name='schedule', con=engine, if_exists='append', index=True)"
   ]
  },
  {
   "cell_type": "code",
   "execution_count": 7,
   "metadata": {},
   "outputs": [],
   "source": [
    "kaggle_mlb_df.to_sql(name='hr', con=engine, if_exists='append', index=True)"
   ]
  },
  {
   "cell_type": "code",
   "execution_count": 8,
   "metadata": {},
   "outputs": [
    {
     "data": {
      "text/plain": [
       "['schedule', 'hr']"
      ]
     },
     "execution_count": 8,
     "metadata": {},
     "output_type": "execute_result"
    }
   ],
   "source": [
    "# Confirm tables\n",
    "engine.table_names()"
   ]
  },
  {
   "cell_type": "code",
   "execution_count": null,
   "metadata": {},
   "outputs": [],
   "source": []
  }
 ],
 "metadata": {
  "kernelspec": {
   "display_name": "Python [conda env:PythonData] *",
   "language": "python",
   "name": "conda-env-PythonData-py"
  },
  "language_info": {
   "codemirror_mode": {
    "name": "ipython",
    "version": 3
   },
   "file_extension": ".py",
   "mimetype": "text/x-python",
   "name": "python",
   "nbconvert_exporter": "python",
   "pygments_lexer": "ipython3",
   "version": "3.6.10"
  }
 },
 "nbformat": 4,
 "nbformat_minor": 4
}
